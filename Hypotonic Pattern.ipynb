{
 "cells": [
  {
   "cell_type": "code",
   "execution_count": 4,
   "id": "3d8bbcbf",
   "metadata": {},
   "outputs": [],
   "source": [
    "import turtle as tt\n",
    "\n",
    "tt.speed(8)\n",
    "dist = 5\n",
    "offset = 5\n",
    "\n",
    "for x in range(100):\n",
    "    tt.hideturtle()\n",
    "    dist += offset\n",
    "    tt.forward(dist)\n",
    "    tt.right(90)\n",
    "    \n",
    "tt.exitonclick()"
   ]
  },
  {
   "cell_type": "code",
   "execution_count": null,
   "id": "181b490b",
   "metadata": {},
   "outputs": [],
   "source": []
  }
 ],
 "metadata": {
  "kernelspec": {
   "display_name": "Python 3 (ipykernel)",
   "language": "python",
   "name": "python3"
  },
  "language_info": {
   "codemirror_mode": {
    "name": "ipython",
    "version": 3
   },
   "file_extension": ".py",
   "mimetype": "text/x-python",
   "name": "python",
   "nbconvert_exporter": "python",
   "pygments_lexer": "ipython3",
   "version": "3.9.12"
  }
 },
 "nbformat": 4,
 "nbformat_minor": 5
}
