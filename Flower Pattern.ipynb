{
 "cells": [
  {
   "cell_type": "code",
   "execution_count": 3,
   "id": "ffd73ebc",
   "metadata": {},
   "outputs": [],
   "source": [
    "import turtle as tt\n",
    "\n",
    "\n",
    "tt.bgcolor('black')\n",
    "tt.speed(0)\n",
    "colors = ['white','orange','red','yellow','green','blue','cyan']\n",
    "\n",
    "for i in range(120):\n",
    "    tt.hideturtle()\n",
    "    tt.pencolor(colors[i%6])\n",
    "    tt.circle(190-i/2, 90)\n",
    "    tt.left(90)\n",
    "    tt.circle(190-i/3,90)\n",
    "    tt.left(60)\n",
    "    \n",
    "tt.exitonclick()"
   ]
  },
  {
   "cell_type": "code",
   "execution_count": null,
   "id": "1563b8d2",
   "metadata": {},
   "outputs": [],
   "source": []
  },
  {
   "cell_type": "code",
   "execution_count": null,
   "id": "ab6e2cfa",
   "metadata": {},
   "outputs": [],
   "source": []
  }
 ],
 "metadata": {
  "kernelspec": {
   "display_name": "Python 3 (ipykernel)",
   "language": "python",
   "name": "python3"
  },
  "language_info": {
   "codemirror_mode": {
    "name": "ipython",
    "version": 3
   },
   "file_extension": ".py",
   "mimetype": "text/x-python",
   "name": "python",
   "nbconvert_exporter": "python",
   "pygments_lexer": "ipython3",
   "version": "3.9.12"
  }
 },
 "nbformat": 4,
 "nbformat_minor": 5
}
