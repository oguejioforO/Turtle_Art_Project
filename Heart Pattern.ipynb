{
 "cells": [
  {
   "cell_type": "code",
   "execution_count": null,
   "id": "e78de69f",
   "metadata": {},
   "outputs": [],
   "source": [
    "import turtle as tt\n",
    "\n",
    "tt.hideturtle()\n",
    "tt.pencolor('red')\n",
    "tt.fillcolor('red')\n",
    "tt.begin_fill()\n",
    "tt.pensize()\n",
    "tt.left(50)\n",
    "tt.forward(133)\n",
    "tt.circle(50,200)\n",
    "tt.right(140)\n",
    "tt.circle(50,200)\n",
    "tt.forward(133)\n",
    "tt.end_fill()\n",
    "tt.done()\n",
    "\n",
    "tt.exitonclick()"
   ]
  }
 ],
 "metadata": {
  "kernelspec": {
   "display_name": "Python 3 (ipykernel)",
   "language": "python",
   "name": "python3"
  },
  "language_info": {
   "codemirror_mode": {
    "name": "ipython",
    "version": 3
   },
   "file_extension": ".py",
   "mimetype": "text/x-python",
   "name": "python",
   "nbconvert_exporter": "python",
   "pygments_lexer": "ipython3",
   "version": "3.9.12"
  }
 },
 "nbformat": 4,
 "nbformat_minor": 5
}
