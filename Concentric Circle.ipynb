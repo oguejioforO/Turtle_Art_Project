{
 "cells": [
  {
   "cell_type": "code",
   "execution_count": null,
   "id": "df0057fd",
   "metadata": {},
   "outputs": [],
   "source": [
    "import turtle as tt\n",
    "\n",
    "num_circle = 20\n",
    "radius = 20\n",
    "offset = 10\n",
    "animation_speed = 5\n",
    "\n",
    "tt.speed(animation_speed)\n",
    "tt.hideturtle()\n",
    "\n",
    "for count in range(num_circle):\n",
    "    tt.circle(radius)\n",
    "    x = tt.xcor()\n",
    "    y = tt.ycor() - offset\n",
    "    radius = radius + offset\n",
    "    tt.penup()\n",
    "    tt.goto(x,y)\n",
    "    tt.pendown()\n",
    "    \n",
    "tt.exitonclick()\n"
   ]
  },
  {
   "cell_type": "code",
   "execution_count": null,
   "id": "ace7a861",
   "metadata": {},
   "outputs": [],
   "source": []
  }
 ],
 "metadata": {
  "kernelspec": {
   "display_name": "Python 3 (ipykernel)",
   "language": "python",
   "name": "python3"
  },
  "language_info": {
   "codemirror_mode": {
    "name": "ipython",
    "version": 3
   },
   "file_extension": ".py",
   "mimetype": "text/x-python",
   "name": "python",
   "nbconvert_exporter": "python",
   "pygments_lexer": "ipython3",
   "version": "3.9.12"
  }
 },
 "nbformat": 4,
 "nbformat_minor": 5
}
