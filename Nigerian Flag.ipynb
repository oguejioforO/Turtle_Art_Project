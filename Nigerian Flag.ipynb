{
 "cells": [
  {
   "cell_type": "code",
   "execution_count": 1,
   "id": "bba78765",
   "metadata": {},
   "outputs": [],
   "source": [
    "import turtle as tt\n",
    "\n",
    "speed = 2\n",
    "setup = (300,500)\n",
    "\n",
    "tt.penup()\n",
    "tt.goto(-400,250)\n",
    "tt.pendown()\n",
    "\n",
    "tt.hideturtle()\n",
    "tt.fillcolor('green')\n",
    "tt.begin_fill()\n",
    "tt.forward(267)\n",
    "tt.right(90)\n",
    "tt.forward(500)\n",
    "tt.right(90)\n",
    "tt.forward(267)\n",
    "tt.end_fill()\n",
    "\n",
    "\n",
    "tt.right(90)\n",
    "tt.penup()\n",
    "tt.forward(500)\n",
    "tt.right(90)\n",
    "tt.forward(267)\n",
    "tt.pendown()\n",
    "\n",
    "\n",
    "tt.fillcolor('white')\n",
    "tt.begin_fill()\n",
    "tt.forward(267)\n",
    "tt.right(90)\n",
    "tt.forward(500)\n",
    "tt.right(90)\n",
    "tt.forward(267)\n",
    "tt.end_fill()\n",
    "\n",
    "tt.right(90)\n",
    "tt.penup()\n",
    "tt.forward(500)\n",
    "tt.right(90)\n",
    "tt.forward(267)\n",
    "tt.pendown()\n",
    "\n",
    "\n",
    "tt.fillcolor('green')\n",
    "tt.begin_fill()\n",
    "tt.forward(267)\n",
    "tt.right(90)\n",
    "tt.forward(500)\n",
    "tt.right(90)\n",
    "tt.forward(267)\n",
    "tt.end_fill()\n",
    "tt.exitonclick()"
   ]
  },
  {
   "cell_type": "code",
   "execution_count": null,
   "id": "98d20735",
   "metadata": {},
   "outputs": [],
   "source": []
  }
 ],
 "metadata": {
  "kernelspec": {
   "display_name": "Python 3 (ipykernel)",
   "language": "python",
   "name": "python3"
  },
  "language_info": {
   "codemirror_mode": {
    "name": "ipython",
    "version": 3
   },
   "file_extension": ".py",
   "mimetype": "text/x-python",
   "name": "python",
   "nbconvert_exporter": "python",
   "pygments_lexer": "ipython3",
   "version": "3.9.12"
  }
 },
 "nbformat": 4,
 "nbformat_minor": 5
}
